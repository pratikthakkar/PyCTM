{
  "nbformat": 4,
  "nbformat_minor": 0,
  "metadata": {
    "colab": {
      "name": "pyctm.ipynb",
      "version": "0.3.2",
      "provenance": [],
      "collapsed_sections": [],
      "include_colab_link": true
    },
    "kernelspec": {
      "name": "python3",
      "display_name": "Python 3"
    }
  },
  "cells": [
    {
      "cell_type": "markdown",
      "metadata": {
        "id": "view-in-github",
        "colab_type": "text"
      },
      "source": [
        "<a href=\"https://colab.research.google.com/github/pratikthakkar/PyCTM/blob/master/pyctm.ipynb\" target=\"_parent\"><img src=\"https://colab.research.google.com/assets/colab-badge.svg\" alt=\"Open In Colab\"/></a>"
      ]
    },
    {
      "cell_type": "code",
      "metadata": {
        "id": "q7VJLJaBcJn0",
        "colab_type": "code",
        "colab": {
          "base_uri": "https://localhost:8080/",
          "height": 122
        },
        "outputId": "f04285c6-c59e-4a14-9adb-01daef5c826d"
      },
      "source": [
        "from google.colab import drive\n",
        "drive.mount('/content/drive')"
      ],
      "execution_count": 1,
      "outputs": [
        {
          "output_type": "stream",
          "text": [
            "Go to this URL in a browser: https://accounts.google.com/o/oauth2/auth?client_id=947318989803-6bn6qk8qdgf4n4g3pfee6491hc0brc4i.apps.googleusercontent.com&redirect_uri=urn%3Aietf%3Awg%3Aoauth%3A2.0%3Aoob&scope=email%20https%3A%2F%2Fwww.googleapis.com%2Fauth%2Fdocs.test%20https%3A%2F%2Fwww.googleapis.com%2Fauth%2Fdrive%20https%3A%2F%2Fwww.googleapis.com%2Fauth%2Fdrive.photos.readonly%20https%3A%2F%2Fwww.googleapis.com%2Fauth%2Fpeopleapi.readonly&response_type=code\n",
            "\n",
            "Enter your authorization code:\n",
            "··········\n",
            "Mounted at /content/drive\n"
          ],
          "name": "stdout"
        }
      ]
    },
    {
      "cell_type": "markdown",
      "metadata": {
        "id": "0k-yaY6NgFv-",
        "colab_type": "text"
      },
      "source": [
        ""
      ]
    },
    {
      "cell_type": "code",
      "metadata": {
        "id": "ArL3DduCgUp9",
        "colab_type": "code",
        "colab": {}
      },
      "source": [
        "import os\n",
        "os.chdir(\"/content/drive/My Drive/colabdrive\")"
      ],
      "execution_count": 0,
      "outputs": []
    },
    {
      "cell_type": "code",
      "metadata": {
        "id": "MwR0nszmexvd",
        "colab_type": "code",
        "colab": {}
      },
      "source": [
        ""
      ],
      "execution_count": 0,
      "outputs": []
    },
    {
      "cell_type": "code",
      "metadata": {
        "id": "ufaf4-vme63g",
        "colab_type": "code",
        "colab": {}
      },
      "source": [
        "#!git clone https://github.com/pratikthakkar/PyCTM.git\n"
      ],
      "execution_count": 0,
      "outputs": []
    },
    {
      "cell_type": "code",
      "metadata": {
        "id": "Xp_OVVvdfGB7",
        "colab_type": "code",
        "colab": {}
      },
      "source": [
        ""
      ],
      "execution_count": 0,
      "outputs": []
    },
    {
      "cell_type": "code",
      "metadata": {
        "id": "00ROnJ7Ch65r",
        "colab_type": "code",
        "colab": {
          "base_uri": "https://localhost:8080/",
          "height": 204
        },
        "outputId": "3d7f8d8b-e3b2-46f6-a105-a65be275b4aa"
      },
      "source": [
        "os.chdir(\"./PyCTM\")\n",
        "!git pull"
      ],
      "execution_count": 3,
      "outputs": [
        {
          "output_type": "stream",
          "text": [
            "remote: Enumerating objects: 11, done.\u001b[K\n",
            "remote: Counting objects:   9% (1/11)\u001b[K\rremote: Counting objects:  18% (2/11)\u001b[K\rremote: Counting objects:  27% (3/11)\u001b[K\rremote: Counting objects:  36% (4/11)\u001b[K\rremote: Counting objects:  45% (5/11)\u001b[K\rremote: Counting objects:  54% (6/11)\u001b[K\rremote: Counting objects:  63% (7/11)\u001b[K\rremote: Counting objects:  72% (8/11)\u001b[K\rremote: Counting objects:  81% (9/11)\u001b[K\rremote: Counting objects:  90% (10/11)\u001b[K\rremote: Counting objects: 100% (11/11)\u001b[K\rremote: Counting objects: 100% (11/11), done.\u001b[K\n",
            "remote: Compressing objects:  20% (1/5)\u001b[K\rremote: Compressing objects:  40% (2/5)\u001b[K\rremote: Compressing objects:  60% (3/5)\u001b[K\rremote: Compressing objects:  80% (4/5)\u001b[K\rremote: Compressing objects: 100% (5/5)\u001b[K\rremote: Compressing objects: 100% (5/5), done.\u001b[K\n",
            "remote: Total 8 (delta 6), reused 5 (delta 3), pack-reused 0\u001b[K\n",
            "Unpacking objects: 100% (8/8), done.\n",
            "From https://github.com/pratikthakkar/PyCTM\n",
            "   2f2dd17..53d39e3  master     -> origin/master\n",
            "Updating 2f2dd17..53d39e3\n",
            "Fast-forward\n",
            " bin/launch_train.py | 4 \u001b[32m++\u001b[m\u001b[31m--\u001b[m\n",
            " 1 file changed, 2 insertions(+), 2 deletions(-)\n"
          ],
          "name": "stdout"
        }
      ]
    },
    {
      "cell_type": "code",
      "metadata": {
        "id": "FDq9bL84fpWk",
        "colab_type": "code",
        "colab": {
          "base_uri": "https://localhost:8080/",
          "height": 34
        },
        "outputId": "18d00607-6dd3-481f-a38b-469b2d0870ed"
      },
      "source": [
        "!pwd"
      ],
      "execution_count": 4,
      "outputs": [
        {
          "output_type": "stream",
          "text": [
            "/content/drive/My Drive/colabdrive/PyCTM\n"
          ],
          "name": "stdout"
        }
      ]
    },
    {
      "cell_type": "code",
      "metadata": {
        "id": "CeX-lLL5ifF9",
        "colab_type": "code",
        "colab": {}
      },
      "source": [
        "#!tar zxvf pnas-abstract.tar.gz"
      ],
      "execution_count": 0,
      "outputs": []
    },
    {
      "cell_type": "code",
      "metadata": {
        "id": "oNhThzSGt3vF",
        "colab_type": "code",
        "colab": {
          "base_uri": "https://localhost:8080/",
          "height": 612
        },
        "outputId": "01e387f3-f541-42c9-fadf-5539a932aa62"
      },
      "source": [
        "!python setup.py install"
      ],
      "execution_count": 6,
      "outputs": [
        {
          "output_type": "stream",
          "text": [
            "running install\n",
            "running bdist_egg\n",
            "running egg_info\n",
            "writing pyctm.egg-info/PKG-INFO\n",
            "writing dependency_links to pyctm.egg-info/dependency_links.txt\n",
            "writing top-level names to pyctm.egg-info/top_level.txt\n",
            "writing manifest file 'pyctm.egg-info/SOURCES.txt'\n",
            "installing library code to build/bdist.linux-x86_64/egg\n",
            "running install_lib\n",
            "running build_py\n",
            "creating build/bdist.linux-x86_64/egg\n",
            "creating build/bdist.linux-x86_64/egg/pyctm\n",
            "copying build/lib/pyctm/inferencer.py -> build/bdist.linux-x86_64/egg/pyctm\n",
            "copying build/lib/pyctm/__init__.py -> build/bdist.linux-x86_64/egg/pyctm\n",
            "copying build/lib/pyctm/variational_bayes.py -> build/bdist.linux-x86_64/egg/pyctm\n",
            "copying build/lib/pyctm/utils.py -> build/bdist.linux-x86_64/egg/pyctm\n",
            "byte-compiling build/bdist.linux-x86_64/egg/pyctm/inferencer.py to inferencer.cpython-36.pyc\n",
            "byte-compiling build/bdist.linux-x86_64/egg/pyctm/__init__.py to __init__.cpython-36.pyc\n",
            "byte-compiling build/bdist.linux-x86_64/egg/pyctm/variational_bayes.py to variational_bayes.cpython-36.pyc\n",
            "byte-compiling build/bdist.linux-x86_64/egg/pyctm/utils.py to utils.cpython-36.pyc\n",
            "creating build/bdist.linux-x86_64/egg/EGG-INFO\n",
            "copying pyctm.egg-info/PKG-INFO -> build/bdist.linux-x86_64/egg/EGG-INFO\n",
            "copying pyctm.egg-info/SOURCES.txt -> build/bdist.linux-x86_64/egg/EGG-INFO\n",
            "copying pyctm.egg-info/dependency_links.txt -> build/bdist.linux-x86_64/egg/EGG-INFO\n",
            "copying pyctm.egg-info/top_level.txt -> build/bdist.linux-x86_64/egg/EGG-INFO\n",
            "zip_safe flag not set; analyzing archive contents...\n",
            "creating 'dist/pyctm-0.0.0-py3.6.egg' and adding 'build/bdist.linux-x86_64/egg' to it\n",
            "removing 'build/bdist.linux-x86_64/egg' (and everything under it)\n",
            "Processing pyctm-0.0.0-py3.6.egg\n",
            "Copying pyctm-0.0.0-py3.6.egg to /usr/local/lib/python3.6/dist-packages\n",
            "Adding pyctm 0.0.0 to easy-install.pth file\n",
            "\n",
            "Installed /usr/local/lib/python3.6/dist-packages/pyctm-0.0.0-py3.6.egg\n",
            "Processing dependencies for pyctm==0.0.0\n",
            "Finished processing dependencies for pyctm==0.0.0\n"
          ],
          "name": "stdout"
        }
      ]
    },
    {
      "cell_type": "code",
      "metadata": {
        "id": "9xJuCxWcivw7",
        "colab_type": "code",
        "colab": {
          "base_uri": "https://localhost:8080/",
          "height": 54
        },
        "outputId": "1def8a62-0211-4f30-9029-bc51fc848c90"
      },
      "source": [
        "N=10\n",
        "with open(\"./pnas-abstract/voc.dat\") as myfile:\n",
        "    head = [next(myfile) for x in range(N)]\n",
        "print(head)"
      ],
      "execution_count": 7,
      "outputs": [
        {
          "output_type": "stream",
          "text": [
            "['cell\\t13474\\t935\\n', 'protein\\t11288\\t893\\n', 'gene\\t8603\\t866\\n', 'human\\t7894\\t853\\n', 'activ\\t6655\\t903\\n', 'nbsp\\t6089\\t120\\n', 'dna\\t6042\\t840\\n', 'receptor\\t5618\\t726\\n', 'express\\t5105\\t727\\n', 'factor\\t4675\\t840\\n']\n"
          ],
          "name": "stdout"
        }
      ]
    },
    {
      "cell_type": "code",
      "metadata": {
        "id": "lYuexrixji8w",
        "colab_type": "code",
        "colab": {
          "base_uri": "https://localhost:8080/",
          "height": 462
        },
        "outputId": "76c593bb-03fa-443d-ce90-9e12f02aba4b"
      },
      "source": [
        "!python bin/launch_train.py --input_directory=./pnas-abstract --output_directory=./output --number_of_topics=10 --training_iterations=1 --number_of_processes=5"
      ],
      "execution_count": 8,
      "outputs": [
        {
          "output_type": "stream",
          "text": [
            "successfully load all training docs from /content/drive/My Drive/colabdrive/PyCTM/pnas-abstract/train.dat...\n",
            "successfully load all the words from /content/drive/My Drive/colabdrive/PyCTM/pnas-abstract/voc.dat...\n",
            "========== ========== ========== ========== ==========\n",
            "output_directory=./output/pnas-abstract/190910-203935-ctm-I1-S10-K10-am0-as1-ab3.6295e-05-L_BFGS_B/\n",
            "input_directory=./pnas-abstract\n",
            "corpus_name=pnas-abstract\n",
            "training_iterations=1\n",
            "snapshot_interval=10\n",
            "number_of_topics=10\n",
            "alpha_mu=0.0\n",
            "alpha_sigma=1\n",
            "alpha_beta=3.629500580720093e-05\n",
            "optimization_method=L-BFGS-B\n",
            "number_of_processes=5\n",
            "========== ========== ========== ========== ==========\n",
            "successfully parse 1113 documents...\n",
            "/usr/local/lib/python3.6/dist-packages/sklearn/utils/deprecation.py:85: DeprecationWarning: Function compute_dirichlet_expectation is deprecated; use sklearn.decomposition._online_lda._dirichlet_expectation_2d instead.\n",
            "  warnings.warn(msg, category=DeprecationWarning)\n",
            "doc logl: [[-26440.27349524]], topic logl: -5354639.185847919\n",
            "Traceback (most recent call last):\n",
            "  File \"bin/launch_train.py\", line 241, in <module>\n",
            "    main()\n",
            "  File \"bin/launch_train.py\", line 238, in main\n",
            "    pickle.dump(list(ctm_inferencer.items()), open(model_snapshot_path, 'wb'));\n",
            "AttributeError: 'VariationalBayes' object has no attribute 'items'\n"
          ],
          "name": "stdout"
        }
      ]
    },
    {
      "cell_type": "code",
      "metadata": {
        "id": "uam860XFlwKg",
        "colab_type": "code",
        "colab": {
          "base_uri": "https://localhost:8080/",
          "height": 459
        },
        "outputId": "eb178065-0ad5-49d9-94ab-cf66bfa5749a"
      },
      "source": [
        "!python bin/launch_train.py --help"
      ],
      "execution_count": 9,
      "outputs": [
        {
          "output_type": "stream",
          "text": [
            "Usage: launch_train.py [options]\n",
            "\n",
            "Options:\n",
            "  -h, --help            show this help message and exit\n",
            "  --input_directory=INPUT_DIRECTORY\n",
            "                        input directory [None]\n",
            "  --output_directory=OUTPUT_DIRECTORY\n",
            "                        output directory [None]\n",
            "  --number_of_topics=NUMBER_OF_TOPICS\n",
            "                        total number of topics [-1]\n",
            "  --training_iterations=TRAINING_ITERATIONS\n",
            "                        total number of iterations [-1]\n",
            "  --snapshot_interval=SNAPSHOT_INTERVAL\n",
            "                        snapshot interval [10]\n",
            "  --alpha_mu=ALPHA_MU   hyper-parameter for logistic normal distribution of\n",
            "                        topic [0.0]\n",
            "  --alpha_sigma=ALPHA_SIGMA\n",
            "                        hyper-parameter for logistic normal distribution of\n",
            "                        topic [1.0]\n",
            "  --alpha_beta=ALPHA_BETA\n",
            "                        hyper-parameter for Dirichlet distribution of\n",
            "                        vocabulary [1.0/number_of_types]\n",
            "  --optimization_method=OPTIMIZATION_METHOD\n",
            "                        optimization method for logistic normal distribution\n",
            "  --number_of_processes=NUMBER_OF_PROCESSES\n",
            "                        number of processes [1]\n"
          ],
          "name": "stdout"
        }
      ]
    }
  ]
}